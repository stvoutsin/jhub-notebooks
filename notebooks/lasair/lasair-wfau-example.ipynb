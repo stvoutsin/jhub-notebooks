{
 "cells": [
  {
   "cell_type": "markdown",
   "metadata": {},
   "source": [
    "# Querying and Plotting the Lasair Database (PyroSQL) with local WFAU Archives (Firethorn)\n",
    "\n",
    "_____________________________________________________________\n",
    "\n",
    "\n"
   ]
  },
  {
   "cell_type": "code",
   "execution_count": null,
   "metadata": {},
   "outputs": [],
   "source": [
    "import pyrosql\n",
    "import firethorn\n",
    "import settings\n",
    "from astropy.table import Table, vstack\n",
    "from plotly import __version__\n",
    "from plotly.offline import download_plotlyjs, init_notebook_mode, plot, iplot\n",
    "from plotly.graph_objs import *\n",
    "import plotly.graph_objs as go\n",
    "import numpy as np\n",
    "\n",
    "init_notebook_mode() # Important\n"
   ]
  },
  {
   "cell_type": "markdown",
   "metadata": {},
   "source": [
    "# Setup Connection to Lasair Database"
   ]
  },
  {
   "cell_type": "code",
   "execution_count": null,
   "metadata": {},
   "outputs": [],
   "source": [
    "psql = pyrosql.PyroSQL(settings.DB_HOST, settings.DB_USER, settings.DB_PASS, \"3306\", \"MySQL\")"
   ]
  },
  {
   "cell_type": "markdown",
   "metadata": {},
   "source": [
    "# Run query to get a few candidates"
   ]
  },
  {
   "cell_type": "code",
   "execution_count": null,
   "metadata": {},
   "outputs": [],
   "source": [
    "lasair_table = psql.execute_sql_query(\"SELECT cone_id,name,ra,decl FROM watchlist_cones WHERE wl_id=35\", \"ztf\")"
   ]
  },
  {
   "cell_type": "markdown",
   "metadata": {},
   "source": [
    "# Get number of rows returned"
   ]
  },
  {
   "cell_type": "code",
   "execution_count": null,
   "metadata": {},
   "outputs": [],
   "source": [
    "lasair_table.count()\n",
    "for i in lasair_table:\n",
    "    print (i)"
   ]
  },
  {
   "cell_type": "markdown",
   "metadata": {},
   "source": [
    "# Get results table as Astropy.Table"
   ]
  },
  {
   "cell_type": "code",
   "execution_count": null,
   "metadata": {},
   "outputs": [],
   "source": [
    "lasair_astropy_table = lasair_table.as_astropy()"
   ]
  },
  {
   "cell_type": "markdown",
   "metadata": {},
   "source": [
    "# Show astropy (interactive) table in notebook "
   ]
  },
  {
   "cell_type": "code",
   "execution_count": null,
   "metadata": {},
   "outputs": [],
   "source": [
    "lasair_astropy_table.show_in_notebook()\n"
   ]
  },
  {
   "cell_type": "markdown",
   "metadata": {},
   "source": [
    "# Plot Light Curve for object"
   ]
  },
  {
   "cell_type": "code",
   "execution_count": null,
   "metadata": {},
   "outputs": [],
   "source": [
    "\n",
    "mjd_list = [(x-2400000.5) for x in lasair_astropy_table[\"jd\"]]\n",
    "\n",
    "# Create a trace\n",
    "trace = go.Scatter(\n",
    "    x = mjd_list,\n",
    "    y = lasair_astropy_table[\"magpsf\"]\n",
    ")\n",
    "\n",
    "data = [trace]\n",
    "\n",
    "iplot(data, filename='basic-line')"
   ]
  },
  {
   "cell_type": "markdown",
   "metadata": {},
   "source": [
    "# Scatter Plot of (ra,dec)"
   ]
  },
  {
   "cell_type": "code",
   "execution_count": null,
   "metadata": {},
   "outputs": [],
   "source": [
    "#Large Datasets\n",
    "\n",
    "N = 100000\n",
    "trace = go.Scattergl(\n",
    "    x = lasair_astropy_table[\"ra\"],\n",
    "    y = lasair_astropy_table[\"dec\"],\n",
    "    mode = 'markers',\n",
    "    marker = dict(\n",
    "        color = '#FFBAD2',\n",
    "        line = dict(width = 1)\n",
    "    )\n",
    ")\n",
    "data = [trace]\n",
    "iplot(data, filename='compare_webgl')"
   ]
  },
  {
   "cell_type": "markdown",
   "metadata": {},
   "source": [
    "# Setup the Firethorn.py client to query WFAU catalogs"
   ]
  },
  {
   "cell_type": "code",
   "execution_count": null,
   "metadata": {},
   "outputs": [],
   "source": [
    "ft = firethorn.Firethorn(endpoint='http://tap.roe.ac.uk/firethorn')"
   ]
  },
  {
   "cell_type": "markdown",
   "metadata": {},
   "source": [
    "# Check available Archives and select one"
   ]
  },
  {
   "cell_type": "code",
   "execution_count": null,
   "metadata": {},
   "outputs": [],
   "source": [
    "ft.get_public_resource_names() "
   ]
  },
  {
   "cell_type": "code",
   "execution_count": null,
   "metadata": {},
   "outputs": [],
   "source": [
    "resource = ft.get_public_resource_by_name('WSA')"
   ]
  },
  {
   "cell_type": "markdown",
   "metadata": {},
   "source": [
    "# Create Workspace & Import a Database"
   ]
  },
  {
   "cell_type": "code",
   "execution_count": null,
   "metadata": {},
   "outputs": [],
   "source": [
    "# Create new workspace\n",
    "my_workspace = ft.new_workspace(\"mySpace\")"
   ]
  },
  {
   "cell_type": "code",
   "execution_count": null,
   "metadata": {},
   "outputs": [],
   "source": [
    "# Import a Schema from the OSA workspace\n",
    "my_workspace.add_schema(\n",
    "    resource.get_schema_by_name(\n",
    "        \"WFCAMCAL08B\"\n",
    "    )\n",
    ")"
   ]
  },
  {
   "cell_type": "markdown",
   "metadata": {},
   "source": [
    "# Run a Query"
   ]
  },
  {
   "cell_type": "code",
   "execution_count": null,
   "metadata": {},
   "outputs": [],
   "source": [
    "# Run a Synchronous query\n",
    "# Try these sources 858993625957,858993549466,858993615087,858993637017,858993759856)\n",
    "\n",
    "query_text = \"\"\"\n",
    "SELECT b.sourceID,l.meanMjdObs,\n",
    "ss.ra, ss.dec, \n",
    "ss.zaperMag3,ss.zaperMag3Err,\n",
    "ss.yaperMag3,ss.yaperMag3Err,\n",
    "ss.japerMag3,ss.japerMag3Err,\n",
    "ss.haperMag3,ss.haperMag3Err,\n",
    "ss.kaperMag3,ss.kaperMag3Err\n",
    "FROM calSourceXSynopticSourceBestMatch AS b,calSynopticSource AS ss,calSynopticMergeLog AS l\n",
    "WHERE b.synframeSetID=ss.synframeSetID AND b.synSeqNum=ss.synSeqNum AND b.synFrameSetID=l.synFrameSetID AND b.sourceID IN\n",
    "(858993625957) \n",
    "AND japerMag3>0\n",
    "\"\"\"\n",
    "\n",
    "query = my_workspace.query(query_text)\n"
   ]
  },
  {
   "cell_type": "code",
   "execution_count": null,
   "metadata": {},
   "outputs": [],
   "source": [
    "print(query.status())\n",
    "if (query.status()==\"FAILED\"):\n",
    "    print (query.error())"
   ]
  },
  {
   "cell_type": "markdown",
   "metadata": {},
   "source": [
    "# Get and display as Astropy.Table"
   ]
  },
  {
   "cell_type": "code",
   "execution_count": null,
   "metadata": {},
   "outputs": [],
   "source": [
    "# Get results table\n",
    "ftpy_astropy_table = []\n",
    "\n",
    "if (query.status()==\"COMPLETED\"):\n",
    "    ftpy_table = query.results()\n",
    "    \n",
    "    # Get results table row count\n",
    "    ftpy_table.rowcount()\n",
    "    ftpy_astropy_table = ftpy_table.as_astropy()\n",
    "    ftpy_astropy_table.show_in_notebook()"
   ]
  },
  {
   "cell_type": "code",
   "execution_count": null,
   "metadata": {},
   "outputs": [],
   "source": [
    "ftpy_astropy_table.show_in_notebook()"
   ]
  },
  {
   "cell_type": "code",
   "execution_count": null,
   "metadata": {
    "scrolled": false
   },
   "outputs": [],
   "source": [
    "# Create a trace\n",
    "trace = go.Scatter(\n",
    "    x = ftpy_astropy_table[\"meanMjdObs\"],\n",
    "    y = ftpy_astropy_table[\"japerMag3\"]\n",
    ")\n",
    "\n",
    "data = [trace]\n",
    "\n",
    "iplot(data, filename='basic-line')"
   ]
  },
  {
   "cell_type": "markdown",
   "metadata": {},
   "source": [
    "# Scatter Plot of (ra,dec)\n"
   ]
  },
  {
   "cell_type": "code",
   "execution_count": null,
   "metadata": {},
   "outputs": [],
   "source": [
    "\n",
    "#Large Datasets\n",
    "\n",
    "N = 100000\n",
    "trace = go.Scattergl(\n",
    "    x = ftpy_astropy_table[\"ra\"],\n",
    "    y = ftpy_astropy_table[\"dec\"],\n",
    "    mode = 'markers',\n",
    "    marker = dict(\n",
    "        color = '#FFBAD2',\n",
    "        line = dict(width = 1)\n",
    "    )\n",
    ")\n",
    "data = [trace]\n",
    "iplot(data, filename='compare_webgl')"
   ]
  },
  {
   "cell_type": "markdown",
   "metadata": {},
   "source": [
    "# Group the two Astropy Tables"
   ]
  },
  {
   "cell_type": "code",
   "execution_count": null,
   "metadata": {},
   "outputs": [],
   "source": [
    "grouped_table = vstack([lasair_astropy_table, ftpy_astropy_table])"
   ]
  },
  {
   "cell_type": "code",
   "execution_count": null,
   "metadata": {},
   "outputs": [],
   "source": [
    "print (grouped_table)"
   ]
  },
  {
   "cell_type": "markdown",
   "metadata": {},
   "source": [
    "# Scatter Plot of Grouped Table"
   ]
  },
  {
   "cell_type": "code",
   "execution_count": null,
   "metadata": {},
   "outputs": [],
   "source": [
    "#Large Datasets\n",
    "\n",
    "N = 100000\n",
    "trace = go.Scattergl(\n",
    "    x = grouped_table[\"ra\"],\n",
    "    y = grouped_table[\"dec\"],\n",
    "    mode = 'markers',\n",
    "    marker = dict(\n",
    "        color = '#FFBAD2',\n",
    "        line = dict(width = 1)\n",
    "    )\n",
    ")\n",
    "data = [trace]\n",
    "iplot(data, filename='compare_webgl')"
   ]
  },
  {
   "cell_type": "markdown",
   "metadata": {},
   "source": [
    "# Initialise Aladin Lite client and Visualise data points"
   ]
  },
  {
   "cell_type": "code",
   "execution_count": null,
   "metadata": {},
   "outputs": [],
   "source": [
    "import ipyaladin.aladin_widget as ipyal\n",
    "\n",
    "aladin= ipyal.Aladin()\n",
    "aladin\n",
    "\n"
   ]
  },
  {
   "cell_type": "code",
   "execution_count": null,
   "metadata": {},
   "outputs": [],
   "source": [
    "aladin.add_table(lasair_astropy_table)"
   ]
  },
  {
   "cell_type": "code",
   "execution_count": null,
   "metadata": {},
   "outputs": [],
   "source": [
    "aladin.add_table(ftpy_astropy_table)"
   ]
  },
  {
   "cell_type": "code",
   "execution_count": null,
   "metadata": {},
   "outputs": [],
   "source": []
  },
  {
   "cell_type": "code",
   "execution_count": null,
   "metadata": {},
   "outputs": [],
   "source": []
  }
 ],
 "metadata": {
  "kernelspec": {
   "display_name": "lsst",
   "language": "python",
   "name": "lsst"
  },
  "language_info": {
   "codemirror_mode": {
    "name": "ipython",
    "version": 3
   },
   "file_extension": ".py",
   "mimetype": "text/x-python",
   "name": "python",
   "nbconvert_exporter": "python",
   "pygments_lexer": "ipython3",
   "version": "3.6.2"
  }
 },
 "nbformat": 4,
 "nbformat_minor": 2
}
