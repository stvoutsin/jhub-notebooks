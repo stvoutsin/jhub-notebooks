{
 "cells": [
  {
   "cell_type": "code",
   "execution_count": null,
   "metadata": {},
   "outputs": [],
   "source": [
    "from astropy.coordinates import SkyCoord\n",
    "from hips import WCSGeometry, make_sky_image\n",
    "from hips import HipsSurveyProperties\n",
    "from ipywidgets import Layout, Box, widgets\n"
   ]
  },
  {
   "cell_type": "markdown",
   "metadata": {},
   "source": [
    "# HIPS Image"
   ]
  },
  {
   "cell_type": "code",
   "execution_count": null,
   "metadata": {},
   "outputs": [],
   "source": [
    "url = 'http://surveys.roe.ac.uk/hips71/LAS/LAS_Y_OUT//properties'\n",
    "hips_survey = 'CDS/P/DSS2/red'"
   ]
  },
  {
   "cell_type": "code",
   "execution_count": null,
   "metadata": {},
   "outputs": [],
   "source": [
    "print (url)"
   ]
  },
  {
   "cell_type": "code",
   "execution_count": null,
   "metadata": {},
   "outputs": [],
   "source": [
    "hips_survey_property = HipsSurveyProperties.fetch(url)"
   ]
  },
  {
   "cell_type": "code",
   "execution_count": null,
   "metadata": {},
   "outputs": [],
   "source": [
    "geometry = WCSGeometry.create(skydir=SkyCoord(217.9, -2.3, unit='deg', frame='fk5'),width=180, height=180, fov='0.02 deg',coordsys='icrs', projection='TAN')\n",
    "from hips import make_sky_image\n",
    "result = make_sky_image(geometry, hips_survey_property, 'fits') "
   ]
  },
  {
   "cell_type": "code",
   "execution_count": null,
   "metadata": {},
   "outputs": [],
   "source": [
    "result.plot()"
   ]
  },
  {
   "cell_type": "code",
   "execution_count": null,
   "metadata": {},
   "outputs": [],
   "source": [
    "#result.image"
   ]
  },
  {
   "cell_type": "code",
   "execution_count": null,
   "metadata": {},
   "outputs": [],
   "source": [
    "import matplotlib.pyplot as plt"
   ]
  },
  {
   "cell_type": "code",
   "execution_count": null,
   "metadata": {},
   "outputs": [],
   "source": [
    "from astropy.visualization.mpl_normalize import simple_norm"
   ]
  },
  {
   "cell_type": "code",
   "execution_count": null,
   "metadata": {},
   "outputs": [],
   "source": [
    "fig = plt.figure()\n",
    "ax = fig.add_subplot(1, 1, 1)\n",
    "norm = simple_norm(result.image, 'sqrt', min_percent=1, max_percent=99)\n",
    "im = ax.imshow(result.image, origin='lower', norm=norm, cmap='gray_r')\n",
    "fig.colorbar(im)"
   ]
  },
  {
   "cell_type": "markdown",
   "metadata": {},
   "source": [
    "## Firethorn Query"
   ]
  },
  {
   "cell_type": "code",
   "execution_count": null,
   "metadata": {},
   "outputs": [],
   "source": [
    "import firethorn\n",
    "import time"
   ]
  },
  {
   "cell_type": "code",
   "execution_count": null,
   "metadata": {},
   "outputs": [],
   "source": [
    "ft = firethorn.Firethorn(endpoint='http://tap.roe.ac.uk/firethorn')"
   ]
  },
  {
   "cell_type": "code",
   "execution_count": null,
   "metadata": {},
   "outputs": [],
   "source": [
    "for i in ft.get_public_resource_names():\n",
    "    print (i)"
   ]
  },
  {
   "cell_type": "code",
   "execution_count": null,
   "metadata": {},
   "outputs": [],
   "source": [
    "resource = ft.get_public_resource_by_name('WSA')"
   ]
  },
  {
   "cell_type": "code",
   "execution_count": null,
   "metadata": {},
   "outputs": [],
   "source": [
    "schema = resource.get_schema_by_name(\"UKIDSSDR9PLUS\")\n",
    "print (schema.get_table_names())"
   ]
  },
  {
   "cell_type": "code",
   "execution_count": null,
   "metadata": {},
   "outputs": [],
   "source": [
    "my_workspace = ft.new_workspace(\"mySpace\")\n",
    "resource.get_schema_by_name(\n",
    "        \"UKIDSSDR9PLUS\"\n",
    "    )"
   ]
  },
  {
   "cell_type": "code",
   "execution_count": null,
   "metadata": {},
   "outputs": [],
   "source": [
    "# Import a Schema from the OSA workspace\n",
    "my_workspace.add_schema(\n",
    "    resource.get_schema_by_name(\n",
    "        \"UKIDSSDR9PLUS\"\n",
    "    )\n",
    ")\n"
   ]
  },
  {
   "cell_type": "code",
   "execution_count": null,
   "metadata": {},
   "outputs": [],
   "source": [
    "# Run a Synchronous query\n",
    "query_text = \"\"\"\n",
    "SELECT TOP 500 \n",
    "sourceID, ra,dec as \"decl\"  FROM \n",
    "    UKIDSSDR9PLUS.lasSource\n",
    "WHERE \n",
    "    ra >210 AND ra<220 AND dec <-2.0 AND dec > -3.0    \n",
    "ORDER by dec\n",
    "\"\"\"\n",
    "query = my_workspace.query(query_text)"
   ]
  },
  {
   "cell_type": "code",
   "execution_count": null,
   "metadata": {},
   "outputs": [],
   "source": [
    "# Get results table\n",
    "table = query.results()\n"
   ]
  },
  {
   "cell_type": "code",
   "execution_count": null,
   "metadata": {},
   "outputs": [],
   "source": [
    "# Get results table row count\n",
    "table.rowcount()"
   ]
  },
  {
   "cell_type": "code",
   "execution_count": null,
   "metadata": {},
   "outputs": [],
   "source": [
    "# Get results table as astropy table\n",
    "astropy_table = table.as_astropy()\n",
    "table.as_astropy()"
   ]
  },
  {
   "cell_type": "markdown",
   "metadata": {},
   "source": [
    "## Scatter Plot using Plotly"
   ]
  },
  {
   "cell_type": "code",
   "execution_count": null,
   "metadata": {},
   "outputs": [],
   "source": [
    "from plotly import __version__\n",
    "from plotly.offline import download_plotlyjs, init_notebook_mode, plot, iplot\n",
    "from plotly.graph_objs import *\n",
    "import plotly.graph_objs as go\n",
    "\n",
    "import numpy as np\n",
    "\n",
    "init_notebook_mode() # Important"
   ]
  },
  {
   "cell_type": "code",
   "execution_count": null,
   "metadata": {},
   "outputs": [],
   "source": [
    "#Large Datasets\n",
    "\n",
    "N = 100000\n",
    "trace = go.Scattergl(\n",
    "    x = astropy_table[\"ra\"],\n",
    "    y = astropy_table[\"decl\"],\n",
    "    mode = 'markers',\n",
    "    marker = dict(\n",
    "        color = '#FFBAD2',\n",
    "        line = dict(width = 1)\n",
    "    )\n",
    ")\n",
    "data = [trace]\n",
    "iplot(data, filename='compare_webgl')"
   ]
  },
  {
   "cell_type": "markdown",
   "metadata": {},
   "source": [
    "## Plot points in Sky"
   ]
  },
  {
   "cell_type": "code",
   "execution_count": null,
   "metadata": {},
   "outputs": [],
   "source": [
    "import ipyaladin as ipyal"
   ]
  },
  {
   "cell_type": "code",
   "execution_count": null,
   "metadata": {},
   "outputs": [],
   "source": [
    "aladin=ipyal.Aladin(target='14 20 0.609 -02 33 49.24', fov=14, survey='http://surveys.roe.ac.uk/hips71/LAS/LAS_Y_OUT')\n",
    "aladin"
   ]
  },
  {
   "cell_type": "code",
   "execution_count": null,
   "metadata": {},
   "outputs": [],
   "source": [
    "\n",
    "aladin.add_table(astropy_table)\n",
    "\n",
    "\n",
    "from IPython.display import display, HTML\n",
    "js = \"<script> aladin.setImageSurvey(aladin.createImageSurvey('BIG_color', 'Color BiH HiPS', 'http://surveys.roe.ac.uk/hips71/LAS/LAS_Y_OUT//')); // setting a custom HiPS</script>\"\n",
    "display(HTML(js))\n",
    "\n",
    "dir(aladin)"
   ]
  },
  {
   "cell_type": "markdown",
   "metadata": {},
   "source": [
    "## Linked Catalogue Views\n"
   ]
  },
  {
   "cell_type": "code",
   "execution_count": null,
   "metadata": {},
   "outputs": [],
   "source": [
    "from ipywidgets import Layout, Box, widgets\n",
    "\n",
    "a = ipyal.Aladin(layout=Layout(width='33.33%'), target='14 20 0.609 -02 33 49.24', fov=0.3, survey='http://surveys.roe.ac.uk/hips71/LAS/LAS_Y_OUT//properties')\n",
    "b = ipyal.Aladin(layout=Layout(width='33.33%'), survey='P/DSS2/red')\n",
    "c = ipyal.Aladin(layout=Layout(width='33.33%'), survey='P/2MASS/color')\n",
    "\n",
    "# synchronize target between 3 widgets\n",
    "widgets.jslink((a, 'target'), (b, 'target'))\n",
    "widgets.jslink((b, 'target'), (c, 'target'))\n",
    "\n",
    "# synchronize FoV (zoom level) between 3 widgets\n",
    "widgets.jslink((a, 'fov'), (b, 'fov'))\n",
    "widgets.jslink((b, 'fov'), (c, 'fov'))\n",
    "\n",
    "items = [a, b, c]\n",
    "\n",
    "box_layout = Layout(display='flex',\n",
    "                    flex_flow='row',\n",
    "                    align_items='stretch',\n",
    "                    border='solid',\n",
    "                    width='100%')\n",
    "box = Box(children=items, layout=box_layout)\n",
    "box"
   ]
  },
  {
   "cell_type": "markdown",
   "metadata": {},
   "source": [
    "## Getting Light Curves and Object name\n"
   ]
  },
  {
   "cell_type": "code",
   "execution_count": null,
   "metadata": {},
   "outputs": [],
   "source": [
    "from ipyaladin import Aladin\n",
    "\n",
    "from ipywidgets import Layout, Box, widgets\n",
    "\n",
    "aladin = Aladin(layout=Layout(width='70%'), target='14 20 0.609 -02 33 49.24', fov=0.3)\n",
    "info = widgets.HTML()\n",
    "\n",
    "\n",
    "box_layout = Layout(display='flex',\n",
    "                    flex_flow='row',\n",
    "                    align_items='stretch',\n",
    "                    width='100%')\n",
    "box = Box(children=[aladin, info], layout=box_layout)\n",
    "box"
   ]
  },
  {
   "cell_type": "code",
   "execution_count": null,
   "metadata": {},
   "outputs": [],
   "source": [
    "\n",
    "import requests\n",
    "def process_result(data):\n",
    "    info.value = ''\n",
    "    ra = data['ra']\n",
    "    dec = data['dec']\n",
    "    radius = min(aladin.fov / 10, 5)\n",
    "    query = \"\"\"SELECT TOP 1 main_id, ra, dec, DISTANCE(POINT('ICRS', %f, %f), POINT('ICRS', ra, dec)) as d FROM basic\n",
    "               WHERE CONTAINS(POINT('ICRS', ra, dec), CIRCLE('ICRS', %f, %f, %f))=1\n",
    "               ORDER BY d ASC\"\"\" % (ra, dec, ra, dec, aladin.fov / 10)\n",
    "    \n",
    "    r = requests.get('http://simbad.u-strasbg.fr/simbad/sim-tap/sync', params={'query': query, 'request': 'doQuery', 'lang': 'adql', 'format': 'json', 'phase': 'run'})\n",
    "    obj_name = ''\n",
    "    obj_coo = None\n",
    "    obj_data = r.json()['data']\n",
    "    if len(obj_data)==0:\n",
    "        return\n",
    "    \n",
    "    obj_name = obj_data[0][0]\n",
    "    obj_coo = [obj_data[0][1], obj_data[0][2]]\n",
    "        \n",
    "    sed_img = '<img src=\"http://cdsportal.u-strasbg.fr/cgi-bin/PhotVizPreview/plot?ra=%f&dec=%f&radius_arcsec=5&w=200&h=150&point_size=4\">' % (obj_coo[0], obj_coo[1])\n",
    "    info.value =  '<h2>%s</h2><br><br>%s' % (obj_name, sed_img)\n",
    "    \n",
    "aladin.add_listener('click', process_result)"
   ]
  },
  {
   "cell_type": "markdown",
   "metadata": {},
   "source": [
    "## Selecting points in sky\n"
   ]
  },
  {
   "cell_type": "code",
   "execution_count": null,
   "metadata": {},
   "outputs": [],
   "source": [
    "\n",
    "from ipyaladin import Aladin\n",
    "from ipywidgets import Layout, Box, widgets\n",
    "\n",
    "aladin = Aladin(layout=Layout(width='50%'), target='14 20 6.807 -02 32 26.23', fov=0.3,survey='http://surveys.roe.ac.uk/hips71/LAS/LAS_Y_OUT//properties')\n",
    "\n",
    "\n",
    "button = widgets.Button(description=\"Select\")\n",
    "def on_button_clicked(b):\n",
    "    aladin.rectangular_selection()\n",
    "\n",
    "button.on_click(on_button_clicked)\n",
    "table_info = widgets.HTML(layout=Layout(height='auto', overflow='auto'))\n",
    "\n",
    "\n",
    "box_layout = Layout(display='flex',\n",
    "                    flex_flow='row',\n",
    "                    align_items='stretch',\n",
    "                    width='100%',\n",
    "                    position='relative',\n",
    "                    overflow='hidden',\n",
    "                    height='100vh',\n",
    "                    margin='-100px 0 0 0',\n",
    "                    padding='100px 0 0 0 '\n",
    "                   )\n",
    "box = Box(children=[aladin, button, table_info], layout=box_layout)\n",
    "box"
   ]
  },
  {
   "cell_type": "code",
   "execution_count": null,
   "metadata": {},
   "outputs": [],
   "source": [
    "from astroquery.simbad import Simbad\n",
    "import astropy.units as u\n",
    "\n",
    "aladin.add_table(astropy_table)\n",
    "\n",
    "def process_result(sources):\n",
    "    s = '<table border=\"1\">'\n",
    "    s += '<tr><th>Source ID</th><th>RA</th><th>DEC</th></tr>'\n",
    "    for source in sources:\n",
    "        s += '<tr><td>%s</td><td>%s</td><td>%s</td></tr>' % (source['data']['sourceID'], source['data']['ra'], source['data']['decl'])\n",
    "    s += '</table>'\n",
    "    table_info.value = s\n",
    "    \n",
    "aladin.add_listener('select', process_result)"
   ]
  },
  {
   "cell_type": "markdown",
   "metadata": {},
   "source": [
    "# Select points on the sky, run query on TAP service"
   ]
  },
  {
   "cell_type": "code",
   "execution_count": null,
   "metadata": {},
   "outputs": [],
   "source": [
    "\n",
    "from ipyaladin import Aladin\n",
    "from ipywidgets import Layout, Box, widgets\n",
    "\n",
    "aladin = Aladin(layout=Layout(width='50%'), target='14 20 6.807 -02 32 26.23', fov=0.3,survey='http://surveys.roe.ac.uk/hips71/LAS/LAS_Y_OUT//properties')\n",
    "\n",
    "\n",
    "button = widgets.Button(description=\"Select\")\n",
    "def on_button_clicked(b):\n",
    "    aladin.rectangular_selection()\n",
    "\n",
    "button.on_click(on_button_clicked)\n",
    "table_info = widgets.HTML(layout=Layout(height='auto', overflow='auto'))\n",
    "\n",
    "\n",
    "input_text = widgets.IntText(\n",
    "    value=7,\n",
    "    description='Any:',\n",
    "    disabled=False\n",
    ")\n",
    "\n",
    "box_layout = Layout(display='flex',\n",
    "                    flex_flow='row',\n",
    "                    align_items='stretch',\n",
    "                    width='100%',\n",
    "                    position='relative',\n",
    "                    overflow='hidden',\n",
    "                    height='100vh',\n",
    "                    margin='-100px 0 0 0',\n",
    "                    padding='100px 0 0 0 '\n",
    "                   )\n",
    "box = Box(children=[aladin, button, table_info], layout=box_layout)\n",
    "box"
   ]
  },
  {
   "cell_type": "code",
   "execution_count": null,
   "metadata": {},
   "outputs": [],
   "source": [
    "from astroquery.simbad import Simbad\n",
    "import astropy.units as u\n",
    "from pyvo.dal import tap\n",
    "from astroquery.utils.tap.core import TapPlus\n",
    "\n",
    "aladin.add_table(astropy_table)\n",
    "\n",
    "\n",
    "def process_result(sources):\n",
    "    query_text = \"SELECT sourceID, ra, dec FROM lasSource WHERE \"\n",
    "\n",
    "    for source in sources:\n",
    "        query_text+=\"(ra=\" + str(source['data']['ra'])\n",
    "        query_text+=\" AND dec=\" + str(source['data']['decl']) + \")\"\n",
    "        query_text+=\" OR \"\n",
    "\n",
    "\n",
    "    query_text = query_text[:-3]\n",
    "    service = TapPlus(url=\"http://wfaudata.roe.ac.uk/ukidssDR9-dsa/TAP\")\n",
    "    job = service.launch_job(query_text)\n",
    "    astropy_table = job.get_results()\n",
    "    \n",
    "    s = \"<h1>TAP Query results:</h1><br/> http://wfaudata.roe.ac.uk/ukidssDR5-dsa/TAP\"\n",
    "    s += '<table border=\"1\">'\n",
    "    s += '<tr><th>Source ID</th><th>RA</th><th>DEC</th></tr>'\n",
    "    \n",
    "    table_info.value = str(len(astropy_table))\n",
    "    table_info.value = query_text\n",
    "\n",
    "    for row in astropy_table:\n",
    "        s += '<tr><td>%s</td><td>%s</td><td>%s</td></tr>' % (row['sourceID'], row['ra'], row['dec'])\n",
    "    s += '</table>' \n",
    "    table_info.value = s\n",
    "\n",
    "    #aladin.add_table(astropy_table)\n",
    "\n",
    "    \n",
    "    \n",
    "aladin.add_listener('select', process_result)"
   ]
  },
  {
   "cell_type": "code",
   "execution_count": null,
   "metadata": {},
   "outputs": [],
   "source": []
  },
  {
   "cell_type": "code",
   "execution_count": null,
   "metadata": {},
   "outputs": [],
   "source": []
  }
 ],
 "metadata": {
  "kernelspec": {
   "display_name": "lsst",
   "language": "python",
   "name": "lsst"
  },
  "language_info": {
   "codemirror_mode": {
    "name": "ipython",
    "version": 3
   },
   "file_extension": ".py",
   "mimetype": "text/x-python",
   "name": "python",
   "nbconvert_exporter": "python",
   "pygments_lexer": "ipython3",
   "version": "3.6.2"
  }
 },
 "nbformat": 4,
 "nbformat_minor": 2
}
