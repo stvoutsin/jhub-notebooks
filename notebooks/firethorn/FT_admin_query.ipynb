{
 "cells": [
  {
   "cell_type": "code",
   "execution_count": null,
   "metadata": {},
   "outputs": [],
   "source": [
    "import firethorn\n",
    "import time"
   ]
  },
  {
   "cell_type": "code",
   "execution_count": null,
   "metadata": {},
   "outputs": [],
   "source": [
    "firethorn.config.osa_endpoint = \"\" # Optional, used in selecting pre-existing workspaces\n",
    "\n",
    "# Initialize Firethorn Object with Firethorn base URL endpoint\n",
    "ft = firethorn.Firethorn(endpoint=firethorn.config.endpoint)\n"
   ]
  },
  {
   "cell_type": "code",
   "execution_count": null,
   "metadata": {},
   "outputs": [],
   "source": [
    "# Login as user\n",
    "\n",
    "ft.login(firethorn.config.adminuser, firethorn.config.adminpass, firethorn.config.admingroup)"
   ]
  },
  {
   "cell_type": "code",
   "execution_count": null,
   "metadata": {},
   "outputs": [],
   "source": [
    "#  Create a JdbcResource to represent the local JDBC database.\n",
    "\n",
    "jdbc_name=\"ATLAS JDBC resource\"\n",
    "atlas_jdbc = ft.firethorn_engine.create_jdbc_resource(jdbc_name ,config.datadata, config.datacatalog, config.datatype, config.datahost, config.datauser, config.datapass)\n",
    "print(str(atlas_jdbc))        "
   ]
  },
  {
   "cell_type": "code",
   "execution_count": null,
   "metadata": {},
   "outputs": [],
   "source": [
    "# Locate the JdbcSchema based on catalog and schema name. \n",
    "catalog=\"ATLASDR1\"\n",
    "schema=\"dbo\"\n",
    "atlas_jdbc_schema = ft.firethorn_engine.select_jdbc_schema_by_name(atlas_jdbc.url, catalog, schema)\n",
    "print(str(atlas_jdbc_schema))"
   ]
  },
  {
   "cell_type": "code",
   "execution_count": null,
   "metadata": {},
   "outputs": [],
   "source": [
    "#en Create an empty AdqlResource \n",
    "adqlname=\"ATLAS ADQL resource\"\n",
    "atlas_adql = ft.firethorn_engine.create_adql_resource(adqlname)"
   ]
  },
  {
   "cell_type": "code",
   "execution_count": null,
   "metadata": {},
   "outputs": [],
   "source": [
    "# Import the mapping between JDBC and ADQL tables.\n",
    "metadoc=\"https://raw.githubusercontent.com/stvoutsin/firethorn.py/master/firethorn/meta/ATLASDR1_TablesSchema.xml\"\n",
    "atlas_adql_schema = atlas_adql.import_jdbc_schema(atlas_jdbc_schema, metadoc=metadoc)\n",
    "print(str(atlas_adql_schema))"
   ]
  },
  {
   "cell_type": "code",
   "execution_count": null,
   "metadata": {},
   "outputs": [],
   "source": [
    "# Create an empty AdqlResource to represent a Query Resource\n",
    "adqlname=\"Query resource\"\n",
    "query_resource = ft.firethorn_engine.create_adql_resource(adqlname)\n",
    "query_resource.import_adql_schema(atlas_adql_schema)\n",
    "print(str(query_resource))\n"
   ]
  },
  {
   "cell_type": "code",
   "execution_count": null,
   "metadata": {},
   "outputs": [],
   "source": [
    "# Create and start an AdqlQuery (Admin)\n",
    "querytext = \"SELECT * FROM ATLASDR1.Filter\"\n",
    "\n",
    "admin_query = query_resource.create_query(querytext) \n",
    "admin_query.update(adql_query_status_next=\"COMPLETED\")\n",
    "\n",
    "print (\"Creating query using AdqlQuery.. \")\n",
    "\n",
    "# Get list of running queries\n",
    "print (\"List of Running queries: \")\n",
    "print ( query_resource.select_queries())\n",
    "        \n",
    "while admin_query.isRunning():\n",
    "    print (admin_query.status())\n",
    "    time.sleep(5)\n",
    "    \n",
    "print (admin_query.results())\n"
   ]
  }
 ],
 "metadata": {
  "kernelspec": {
   "display_name": "Python 3",
   "language": "python",
   "name": "python3"
  },
  "language_info": {
   "codemirror_mode": {
    "name": "ipython",
    "version": 3
   },
   "file_extension": ".py",
   "mimetype": "text/x-python",
   "name": "python",
   "nbconvert_exporter": "python",
   "pygments_lexer": "ipython3",
   "version": "3.4.3"
  }
 },
 "nbformat": 4,
 "nbformat_minor": 2
}
