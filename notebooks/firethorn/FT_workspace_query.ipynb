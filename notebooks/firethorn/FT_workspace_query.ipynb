{
 "cells": [
  {
   "cell_type": "code",
   "execution_count": null,
   "metadata": {},
   "outputs": [],
   "source": [
    "import firethorn\n",
    "import time"
   ]
  },
  {
   "cell_type": "code",
   "execution_count": null,
   "metadata": {},
   "outputs": [],
   "source": [
    "firethorn.config.osa_endpoint = \"\" # Optional, used in selecting pre-existing workspaces\n",
    "\n",
    "# Initialize Firethorn Object with Firethorn base URL endpoint\n",
    "ft = firethorn.Firethorn(endpoint=firethorn.config.endpoint)\n"
   ]
  },
  {
   "cell_type": "code",
   "execution_count": null,
   "metadata": {},
   "outputs": [],
   "source": [
    "# Login as user\n",
    "\n",
    "ft.login(\"orinoco\", \"wombleden\", \"wombles\")\n"
   ]
  },
  {
   "cell_type": "code",
   "execution_count": null,
   "metadata": {},
   "outputs": [],
   "source": [
    "# Get existing workspace for the OSA\n",
    "osa = ft.get_workspace(\"OSA\")\n",
    "\n",
    "# Create new workspace\n",
    "wspace = ft.new_workspace(\"ATLAS\")\n",
    "\n",
    "# Import a Schema from the OSA workspace\n",
    "wspace.import_schema(osa.get_schema(\"ATLASDR1\"))\n",
    "\n",
    "# List the workspace schema.\n",
    "print (wspace.get_schemas())"
   ]
  },
  {
   "cell_type": "code",
   "execution_count": null,
   "metadata": {},
   "outputs": [],
   "source": [
    "# Test a Synchronous Query\n",
    "\n",
    "print (\"Running query using Query (Synchronous) class.. \")\n",
    "\n",
    "qry = wspace.query(\"Select top 2 * from ATLASDR1.Filter\")\n",
    "print (qry.results().as_astropy())"
   ]
  },
  {
   "cell_type": "code",
   "execution_count": null,
   "metadata": {},
   "outputs": [],
   "source": [
    "# Test an Asynchronous query       \n",
    "\n",
    "print (\"Running query using Query (Asynchronous) class.. \")\n",
    "myquery = wspace.query(querytext, \"ASYNC\")\n",
    "myquery.run()\n",
    "while myquery.isRunning():\n",
    "    print (myquery.status())\n",
    "    time.sleep(5)\n",
    "\n",
    "print (myquery.results().as_astropy())\n",
    "        "
   ]
  }
 ],
 "metadata": {
  "kernelspec": {
   "display_name": "Python 3",
   "language": "python",
   "name": "python3"
  },
  "language_info": {
   "codemirror_mode": {
    "name": "ipython",
    "version": 3
   },
   "file_extension": ".py",
   "mimetype": "text/x-python",
   "name": "python",
   "nbconvert_exporter": "python",
   "pygments_lexer": "ipython3",
   "version": "3.4.3"
  }
 },
 "nbformat": 4,
 "nbformat_minor": 2
}
