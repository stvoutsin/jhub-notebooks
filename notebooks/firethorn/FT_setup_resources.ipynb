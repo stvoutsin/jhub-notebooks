{
 "cells": [
  {
   "cell_type": "code",
   "execution_count": null,
   "metadata": {},
   "outputs": [],
   "source": [
    "import firethorn\n"
   ]
  },
  {
   "cell_type": "code",
   "execution_count": null,
   "metadata": {},
   "outputs": [],
   "source": [
    "# Initialize Firethorn & Login\n",
    "\n",
    "ft = firethorn.Firethorn(endpoint=firethorn.config.endpoint)\n",
    "ft.login(firethorn.config.adminuser, firethorn.config.adminpass, firethorn.config.admingroup)"
   ]
  },
  {
   "cell_type": "code",
   "execution_count": null,
   "metadata": {},
   "outputs": [],
   "source": [
    "#  Create a JdbcResource to represent the local JDBC database.\n",
    "\n",
    "jdbc_name=\"ATLAS JDBC resource\"\n",
    "atlas_jdbc = ft.firethorn_engine.create_jdbc_resource(jdbc_name ,config.datadata, config.datacatalog, config.datatype, config.datahost, config.datauser, config.datapass)\n",
    "print (\"atlas_jdbc: \" +  str(atlas_jdbc))\n",
    "print (\"Ident: \" + atlas_jdbc.ident())\n",
    "print (\"Name: \" + atlas_jdbc.name())\n",
    "print (\"Owner: \" + atlas_jdbc.owner())\n",
    "print (\"URL: \" + atlas_jdbc.url)   \n",
    "\n",
    "\n",
    "print (\"select_schemas() : \")\n",
    "print (atlas_jdbc.select_schemas()) \n",
    "print (\"select_schema_by_ident(): \")\n",
    "print (atlas_jdbc.select_schema_by_ident(atlas_jdbc.select_schemas()[0].url)) \n",
    "print (\"select_schema_by_name(): \")\n",
    "print (atlas_jdbc.select_schema_by_name(\"ATLASDR1\", \"dbo\")) \n",
    "print (\"create_schema(): \") \n",
    "print (atlas_jdbc.create_schema(\"dbo\", \"mySchema\") ) ## ???? Not implemented yet"
   ]
  },
  {
   "cell_type": "code",
   "execution_count": null,
   "metadata": {},
   "outputs": [],
   "source": [
    "# Locate the JdbcSchema based on catalog and schema name. \n",
    "\n",
    "catalog=\"ATLASDR1\"\n",
    "schema=\"dbo\"\n",
    "\n",
    "print (\"select_jdbc_resource_by_name(): \")\n",
    "print (ft.firethorn_engine.select_jdbc_resource_by_name(catalog)) ## ???  ## ???? Not implemented yet\n",
    "print (\"select_jdbc_resource_by_ident(): \")\n",
    "print ( ft.firethorn_engine.select_jdbc_resource_by_ident(atlas_jdbc.url))\n",
    "\n"
   ]
  },
  {
   "cell_type": "code",
   "execution_count": null,
   "metadata": {},
   "outputs": [],
   "source": [
    "# Jdbc Schema Tests\n",
    "\n",
    "atlas_jdbc_schema = ft.firethorn_engine.select_jdbc_schema_by_name(atlas_jdbc.url, catalog, schema)\n",
    "filter_jdbc_table = atlas_jdbc_schema.select_table_by_ident(atlas_jdbc_schema.select_tables()[0].url)\n",
    "\n",
    "print (\"atlas_jdbc_schema: \")\n",
    "print (atlas_jdbc_schema)\n",
    "print (\"resource(): \")\n",
    "print (atlas_jdbc_schema.resource())\n",
    "print (\"catalog_name(): \" + atlas_jdbc_schema.catalog_name())\n",
    "print (\"select_tables(): \")\n",
    "print (atlas_jdbc_schema.select_tables())\n",
    "print (\"select_table_by_ident(): \")\n",
    "print (atlas_jdbc_schema.select_table_by_ident(atlas_jdbc_schema.select_tables()[0].url))\n",
    "print (\"select_table_by_name(): \") \n",
    "print (atlas_jdbc_schema.select_table_by_name(filter_jdbc_table.name)) ## ???? ## ???? Not implemented yet\n",
    "print (\"create_table(): \") \n",
    "print (atlas_jdbc_schema.create_table(\"myTable\")) ## ???? ## ???? Not implemented yet\n"
   ]
  },
  {
   "cell_type": "code",
   "execution_count": null,
   "metadata": {},
   "outputs": [],
   "source": [
    "# Jdbc Table Tests\n",
    "print (\"name(): \" + filter_jdbc_table.name())\n",
    "print (\"ident(): \" + filter_jdbc_table.ident())\n",
    "print (\"resource(): \") \n",
    "print (filter_jdbc_table.resource())\n",
    "print (\"schema(): \") \n",
    "print (filter_jdbc_table.schema())\n",
    "print (\"select_columns(): \") \n",
    "print (filter_jdbc_table.select_columns())\n",
    "print (\"select_column_by_ident(): \")\n",
    "filterID_jdbc_column = filter_jdbc_table.select_column_by_ident(filter_jdbc_table.select_columns()[0].url)\n",
    "print (filterID_jdbc_column)\n",
    "print (\"select_column_by_name(): \")\n",
    "print (filter_jdbc_table.select_column_by_name(filterID_jdbc_column.name)) ## ?? Not implemented yet\n",
    "print (\"create_column(): \")\n",
    "print (filter_jdbc_table.create_column(\"myColumn\")) ## ?? Not implemented yet\n"
   ]
  },
  {
   "cell_type": "code",
   "execution_count": null,
   "metadata": {},
   "outputs": [],
   "source": [
    "# Jdbc Column Tests\n",
    "\n",
    "print (\"url: \" + filterID_jdbc_column.url)\n",
    "print (\"name(): \" + filterID_jdbc_column.name())\n",
    "print (\"ident(): \" + filterID_jdbc_column.ident())\n",
    "print (\"owner(): \" + filterID_jdbc_column.owner())\n",
    "print (\"resource(): \")\n",
    "print (filterID_jdbc_column.resource())\n",
    "print (\"schema(): \")\n",
    "print (filterID_jdbc_column.schema())\n",
    "print (\"table(): \")\n",
    "print (filterID_jdbc_column.table())\n",
    "print (\"type(): \" + filterID_jdbc_column.type())\n",
    "print (\"arraysize(): \" + str(filterID_jdbc_column.size()))\n",
    "print (\"ucd(): \" + str(filterID_jdbc_column.ucd()))\n",
    "print (\"utype(): \" + str(filterID_jdbc_column.utype()))\n"
   ]
  },
  {
   "cell_type": "code",
   "execution_count": null,
   "metadata": {},
   "outputs": [],
   "source": [
    "# Create an IvoaResource to represent the GAIA TAP resource.\n",
    "\n",
    "tapname=\"GAIA TAP service\"\n",
    "tapurl=\"http://gea.esac.esa.int/tap-server/tap\"\n",
    "vosifile='https://raw.githubusercontent.com/stvoutsin/firethorn.py/master/firethorn/meta/vosi/gaia/gaia-tableset.xml'\n",
    "gaia_ivoa_resource = ft.firethorn_engine.create_ivoa_resource(tapname, tapurl)\n",
    "gaia_ivoa_resource.import_ivoa_metadoc(vosifile)\n",
    "\n",
    "print (\"gaia_ivoa_resource: \")\n",
    "print (gaia_ivoa_resource)\n",
    "print (ft.firethorn_engine.select_ivoa_resource_by_ident(gaia_ivoa_resource.url))    \n",
    "print (ft.firethorn_engine.select_ivoa_resource_by_name(None)) ## Not implemented yet\n",
    "print (gaia_ivoa_resource.select_schemas())\n",
    "print (gaia_ivoa_resource.select_schema_by_ident(gaia_ivoa_resource.select_schemas()[0].url))\n",
    "print (gaia_ivoa_resource.select_schema_by_name(\"gaiadr1\"))"
   ]
  },
  {
   "cell_type": "code",
   "execution_count": null,
   "metadata": {},
   "outputs": [],
   "source": [
    "# Test IVOA Schema\n",
    "\n",
    "ivoa_schema = gaia_ivoa_resource.select_schema_by_ident(gaia_ivoa_resource.select_schemas()[0].url)\n",
    "print (ivoa_schema.name())\n",
    "print (ivoa_schema.resource())\n",
    "print (ivoa_schema.schema_name())\n",
    "print (ivoa_schema.select_tables())\n",
    "ivoa_table = ivoa_schema.select_table_by_ident(ivoa_schema.select_tables()[0].url)\n",
    "print (ivoa_table)\n",
    "print (ivoa_schema.select_table_by_name(ivoa_table.name))\n"
   ]
  },
  {
   "cell_type": "code",
   "execution_count": null,
   "metadata": {},
   "outputs": [],
   "source": [
    "# Test IVOA Table\n",
    "\n",
    "print (ivoa_table)\n",
    "print (ivoa_table.name())\n",
    "print (ivoa_table.select_columns())\n",
    "ivoa_column = ivoa_table.select_column_by_ident(ivoa_table.select_columns()[0].url)\n",
    "print (ivoa_column)\n",
    "print (ivoa_table.select_column_by_name(ivoa_column.name))\n"
   ]
  },
  {
   "cell_type": "code",
   "execution_count": null,
   "metadata": {},
   "outputs": [],
   "source": [
    "# Create an empty AdqlResource to represent the local JDBC database.\n",
    "\n",
    "adqlname=\"ATLAS ADQL resource\"\n",
    "atlas_adql = ft.firethorn_engine.create_adql_resource(adqlname)\n",
    "print (\"atlas_adql: \")\n",
    "print (atlas_adql) \n",
    "print (ft.firethorn_engine.select_adql_resource_by_ident(atlas_adql.url))\n",
    "print (ft.firethorn_engine.select_adql_resource_by_name(\"ATLAS\")) ## ?? Not implemented yet\n",
    "\n"
   ]
  },
  {
   "cell_type": "code",
   "execution_count": null,
   "metadata": {},
   "outputs": [],
   "source": [
    "# Import the mapping between JDBC and ADQL tables.\n",
    "\n",
    "metadoc=\"https://raw.githubusercontent.com/stvoutsin/firethorn.py/master/firethorn/meta/ATLASDR1_TablesSchema.xml\"\n",
    "atlas_adql_schema = atlas_adql.import_jdbc_schema(atlas_jdbc_schema, metadoc=metadoc)\n",
    "atlas_adql_schemav2 = atlas_adql.import_jdbc_schema(atlas_jdbc_schema, schema_name=\"atlasV2\")\n",
    "print (atlas_adql_schema)\n",
    "print (atlas_adql_schemav2)\n",
    "print (atlas_adql.select_schema_by_ident(atlas_adql_schema.url))\n",
    "print (atlas_adql.select_schema_by_name(\"ATLASDR1\"))\n",
    "print (atlas_adql.select_schemas())\n"
   ]
  },
  {
   "cell_type": "code",
   "execution_count": null,
   "metadata": {},
   "outputs": [],
   "source": [
    "# Create an empty AdqlResource to represent a Query Resource\n",
    "\n",
    "adqlname=\"Query resource\"\n",
    "query_resource = ft.firethorn_engine.create_adql_resource(adqlname)\n",
    "print (\"query_resource: \")\n",
    "print (query_resource)\n",
    "my_atlas_schema = query_resource.import_adql_schema(atlas_adql_schema, \"myAtlas\")\n",
    "query_resource.import_adql_schema(atlas_adql_schema)\n",
    "query_resource.import_ivoa_schema(ivoa_schema, \"gaiadr1\")\n",
    "print(query_resource.create_adql_schema(\"mySchema\"))\n",
    "print (query_resource.select_schemas())"
   ]
  },
  {
   "cell_type": "code",
   "execution_count": null,
   "metadata": {},
   "outputs": [],
   "source": [
    "# ADQL Schema Tests    \n",
    "\n",
    "print (\"myAtlas Schema: \")\n",
    "print (my_atlas_schema)\n",
    "print (\"resource(): \")\n",
    "print (my_atlas_schema.resource())\n",
    "print (\"Name: \" + my_atlas_schema.name())\n",
    "print (\"Owner: \" + my_atlas_schema.owner())\n",
    "print (\"select_tables(): \")\n",
    "print (my_atlas_schema.select_tables())\n",
    "print (\"select_table_by_ident(): \")\n",
    "print (my_atlas_schema.select_table_by_ident(my_atlas_schema.select_tables()[0].url))\n",
    "print (\"select_table_by_name(): \") \n",
    "my_adql_table = my_atlas_schema.select_table_by_name(\"Filter\")\n",
    "print (my_adql_table)\n",
    "print (\"create_table(): \") \n",
    "print (my_atlas_schema.create_table(\"myTable\")) ## ???? Not implemented yet\n",
    "my_atlas_schema.import_ivoa_table(None) ## ???? Not implemented yet\n",
    "my_atlas_schema.import_adql_table(None) ## ???? Not implemented yet\n"
   ]
  },
  {
   "cell_type": "code",
   "execution_count": null,
   "metadata": {},
   "outputs": [],
   "source": [
    "# ADQL Table Tests    \n",
    "\n",
    "print (\"name(): \" + my_adql_table.name())\n",
    "print (\"ident(): \" + my_adql_table.ident())\n",
    "print (\"resource(): \") \n",
    "print (my_adql_table.resource())\n",
    "print (\"schema(): \") \n",
    "print (my_adql_table.schema())\n",
    "print (\"select_columns(): \") \n",
    "print (my_adql_table.select_columns())\n",
    "print (\"select_column_by_ident(): \")\n",
    "my_column = my_adql_table.select_column_by_ident(my_adql_table.select_columns()[0].url)\n",
    "print (my_column)\n",
    "print (\"select_column_by_name(): \")\n",
    "print (my_adql_table.select_column_by_name(my_column.name)) ## ?? Not implemented yet\n",
    "print (\"create_column(): \")\n",
    "print (my_adql_table.create_adql_column(\"myColumn\")) ## ?? Not implemented yet    \n"
   ]
  },
  {
   "cell_type": "code",
   "execution_count": null,
   "metadata": {},
   "outputs": [],
   "source": [
    "# ADQL Column Tests\n",
    "\n",
    "print (\"url: \" + my_column.url)\n",
    "print (\"name(): \" + my_column.name())\n",
    "print (\"ident(): \" + my_column.ident())\n",
    "print (\"owner(): \" + my_column.owner())\n",
    "print (\"resource(): \")\n",
    "print (my_column.resource())\n",
    "print (\"schema(): \")\n",
    "print (my_column.schema())\n",
    "print (\"table(): \")\n",
    "print (my_column.table())\n",
    "print (\"type(): \" + my_column.type())\n",
    "print (\"arraysize(): \" + str(my_column.arraysize()))\n",
    "print (\"ucd(): \" + str(my_column.ucd()))\n",
    "print (\"utype(): \" + str(my_column.utype()))\n"
   ]
  },
  {
   "cell_type": "code",
   "execution_count": null,
   "metadata": {},
   "outputs": [],
   "source": [
    "# List the workspace schema.\n",
    "\n",
    "print (ft.firethorn_engine.list_schemas(atlas_adql))"
   ]
  },
  {
   "cell_type": "code",
   "execution_count": null,
   "metadata": {},
   "outputs": [],
   "source": [
    "\n",
    "\n",
    "\n"
   ]
  },
  {
   "cell_type": "code",
   "execution_count": null,
   "metadata": {},
   "outputs": [],
   "source": []
  }
 ],
 "metadata": {
  "kernelspec": {
   "display_name": "Python 3",
   "language": "python",
   "name": "python3"
  },
  "language_info": {
   "codemirror_mode": {
    "name": "ipython",
    "version": 3
   },
   "file_extension": ".py",
   "mimetype": "text/x-python",
   "name": "python",
   "nbconvert_exporter": "python",
   "pygments_lexer": "ipython3",
   "version": "3.4.3"
  }
 },
 "nbformat": 4,
 "nbformat_minor": 2
}
