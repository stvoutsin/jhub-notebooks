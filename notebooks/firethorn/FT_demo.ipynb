{
 "cells": [
  {
   "cell_type": "code",
   "execution_count": 1,
   "metadata": {},
   "outputs": [],
   "source": [
    "import firethorn\n",
    "import time"
   ]
  },
  {
   "cell_type": "code",
   "execution_count": 2,
   "metadata": {},
   "outputs": [],
   "source": [
    "# Initialize Firethorn Object with Firethorn base URL endpoint\n",
    "ft = firethorn.Firethorn(endpoint='http://tap.roe.ac.uk/firethorn')"
   ]
  },
  {
   "cell_type": "code",
   "execution_count": 3,
   "metadata": {},
   "outputs": [],
   "source": [
    "# Login as user\n",
    "# ft.login(user, pass, group)"
   ]
  },
  {
   "cell_type": "code",
   "execution_count": 4,
   "metadata": {},
   "outputs": [
    {
     "data": {
      "text/plain": [
       "['OSA', 'SSA', 'VSA', 'WSA']"
      ]
     },
     "execution_count": 4,
     "metadata": {},
     "output_type": "execute_result"
    }
   ],
   "source": [
    "# Get list of Public (WFAU) Resources\n",
    "ft.get_public_resource_names() "
   ]
  },
  {
   "cell_type": "code",
   "execution_count": 5,
   "metadata": {},
   "outputs": [],
   "source": [
    "# Select a Resource by name\n",
    "osa_resource = ft.get_public_resource_by_name('VSA')"
   ]
  },
  {
   "cell_type": "code",
   "execution_count": 6,
   "metadata": {},
   "outputs": [
    {
     "data": {
      "text/plain": [
       "['BestDR1',\n",
       " 'BestDR3',\n",
       " 'BestDR5',\n",
       " 'BestDR7',\n",
       " 'BestDR8',\n",
       " 'BestDR9',\n",
       " 'FIRST',\n",
       " 'GLIMPSE',\n",
       " 'IRAS',\n",
       " 'MGC',\n",
       " 'ROSAT',\n",
       " 'SSA',\n",
       " 'Stripe82',\n",
       " 'TAP_SCHEMA',\n",
       " 'TWOMASS',\n",
       " 'TWOXMM',\n",
       " 'UKIDSSDR10PLUS',\n",
       " 'UKIDSSDR4PLUS',\n",
       " 'UKIDSSDR5PLUS',\n",
       " 'UKIDSSDR6PLUS',\n",
       " 'UKIDSSDR7PLUS',\n",
       " 'UKIDSSDR8PLUS',\n",
       " 'UKIDSSDR9PLUS',\n",
       " 'VHSDR1',\n",
       " 'VHSDR2',\n",
       " 'VHSDR3',\n",
       " 'VHSDR6',\n",
       " 'VIDEODR2',\n",
       " 'VIDEODR3',\n",
       " 'VIDEODR4',\n",
       " 'VIDEODR5',\n",
       " 'VIKINGDR2',\n",
       " 'VIKINGDR3',\n",
       " 'VIKINGDR4',\n",
       " 'VMCDR1',\n",
       " 'VMCDR2',\n",
       " 'VMCDR3',\n",
       " 'VMCDR4',\n",
       " 'VVVDR1',\n",
       " 'VVVDR2',\n",
       " 'VVVDR4',\n",
       " 'VVVDR5',\n",
       " 'WISE']"
      ]
     },
     "execution_count": 6,
     "metadata": {},
     "output_type": "execute_result"
    }
   ],
   "source": [
    "# Get list of Schemas for OSA resource\n",
    "osa_resource.get_schema_names()"
   ]
  },
  {
   "cell_type": "code",
   "execution_count": 7,
   "metadata": {},
   "outputs": [
    {
     "name": "stderr",
     "output_type": "stream",
     "text": [
      "ERROR:root:HTTP Error 404: \n",
      "Traceback (most recent call last):\n",
      "  File \"/opt/lsst-3.6/python/miniconda3-4.3.21/lib/python3.6/site-packages/firethorn-0.1.0-py3.6.egg/firethorn/models/base/base_object.py\", line 90, in get_json\n",
      "    with urllib.request.urlopen( req, data) as response:\n",
      "  File \"/opt/lsst-3.6/python/miniconda3-4.3.21/lib/python3.6/urllib/request.py\", line 223, in urlopen\n",
      "    return opener.open(url, data, timeout)\n",
      "  File \"/opt/lsst-3.6/python/miniconda3-4.3.21/lib/python3.6/urllib/request.py\", line 532, in open\n",
      "    response = meth(req, response)\n",
      "  File \"/opt/lsst-3.6/python/miniconda3-4.3.21/lib/python3.6/urllib/request.py\", line 642, in http_response\n",
      "    'http', request, response, code, msg, hdrs)\n",
      "  File \"/opt/lsst-3.6/python/miniconda3-4.3.21/lib/python3.6/urllib/request.py\", line 570, in error\n",
      "    return self._call_chain(*args)\n",
      "  File \"/opt/lsst-3.6/python/miniconda3-4.3.21/lib/python3.6/urllib/request.py\", line 504, in _call_chain\n",
      "    result = func(*args)\n",
      "  File \"/opt/lsst-3.6/python/miniconda3-4.3.21/lib/python3.6/urllib/request.py\", line 650, in http_error_default\n",
      "    raise HTTPError(req.full_url, code, msg, hdrs, fp)\n",
      "urllib.error.HTTPError: HTTP Error 404: \n"
     ]
    }
   ],
   "source": [
    "atlasdr1 = osa_resource.get_schema_by_name(\"ATLASDR1\")"
   ]
  },
  {
   "cell_type": "code",
   "execution_count": 8,
   "metadata": {},
   "outputs": [
    {
     "name": "stderr",
     "output_type": "stream",
     "text": [
      "ERROR:root:unknown url type: ''\n",
      "Traceback (most recent call last):\n",
      "  File \"/opt/lsst-3.6/python/miniconda3-4.3.21/lib/python3.6/site-packages/firethorn-0.1.0-py3.6.egg/firethorn/models/base/base_object.py\", line 88, in get_json\n",
      "    req = urllib.request.Request( ident, headers=self.account.get_identity_as_headers())\n",
      "  File \"/opt/lsst-3.6/python/miniconda3-4.3.21/lib/python3.6/urllib/request.py\", line 329, in __init__\n",
      "    self.full_url = url\n",
      "  File \"/opt/lsst-3.6/python/miniconda3-4.3.21/lib/python3.6/urllib/request.py\", line 355, in full_url\n",
      "    self._parse()\n",
      "  File \"/opt/lsst-3.6/python/miniconda3-4.3.21/lib/python3.6/urllib/request.py\", line 384, in _parse\n",
      "    raise ValueError(\"unknown url type: %r\" % self.full_url)\n",
      "ValueError: unknown url type: ''\n"
     ]
    },
    {
     "data": {
      "text/plain": [
       "[]"
      ]
     },
     "execution_count": 8,
     "metadata": {},
     "output_type": "execute_result"
    }
   ],
   "source": [
    "# Get list of Tables for ATLASDR1 Schema\n",
    "atlasdr1.get_table_names()"
   ]
  },
  {
   "cell_type": "code",
   "execution_count": 9,
   "metadata": {},
   "outputs": [
    {
     "name": "stderr",
     "output_type": "stream",
     "text": [
      "ERROR:root:unsupported operand type(s) for +: 'NoneType' and 'str'\n",
      "Traceback (most recent call last):\n",
      "  File \"/opt/lsst-3.6/python/miniconda3-4.3.21/lib/python3.6/site-packages/firethorn-0.1.0-py3.6.egg/firethorn/models/adql/adql_schema.py\", line 54, in select_table_by_name\n",
      "    response_json = self.get_json( self.url + \"/tables/select\", { \"adql.table.name\": table_name })\n",
      "TypeError: unsupported operand type(s) for +: 'NoneType' and 'str'\n"
     ]
    }
   ],
   "source": [
    "atlasSource = atlasdr1.get_table_by_name(\"Filter\")"
   ]
  },
  {
   "cell_type": "code",
   "execution_count": 10,
   "metadata": {},
   "outputs": [
    {
     "ename": "TypeError",
     "evalue": "unsupported operand type(s) for +: 'NoneType' and 'str'",
     "output_type": "error",
     "traceback": [
      "\u001b[0;31m---------------------------------------------------------------------------\u001b[0m",
      "\u001b[0;31mTypeError\u001b[0m                                 Traceback (most recent call last)",
      "\u001b[0;32m<ipython-input-10-7b1794786f8d>\u001b[0m in \u001b[0;36m<module>\u001b[0;34m()\u001b[0m\n\u001b[1;32m      1\u001b[0m \u001b[0;31m# Get list of Columns for atlasSource Table\u001b[0m\u001b[0;34m\u001b[0m\u001b[0;34m\u001b[0m\u001b[0m\n\u001b[0;32m----> 2\u001b[0;31m \u001b[0matlasSource\u001b[0m\u001b[0;34m.\u001b[0m\u001b[0mget_column_names\u001b[0m\u001b[0;34m(\u001b[0m\u001b[0;34m)\u001b[0m\u001b[0;34m\u001b[0m\u001b[0m\n\u001b[0m",
      "\u001b[0;32m/opt/lsst-3.6/python/miniconda3-4.3.21/lib/python3.6/site-packages/firethorn-0.1.0-py3.6.egg/firethorn/models/table.py\u001b[0m in \u001b[0;36mget_column_names\u001b[0;34m(self)\u001b[0m\n\u001b[1;32m     28\u001b[0m \u001b[0;34m\u001b[0m\u001b[0m\n\u001b[1;32m     29\u001b[0m     \u001b[0;32mdef\u001b[0m \u001b[0mget_column_names\u001b[0m \u001b[0;34m(\u001b[0m\u001b[0mself\u001b[0m\u001b[0;34m)\u001b[0m\u001b[0;34m:\u001b[0m\u001b[0;34m\u001b[0m\u001b[0m\n\u001b[0;32m---> 30\u001b[0;31m         \u001b[0madql_columns\u001b[0m\u001b[0;34m=\u001b[0m\u001b[0mself\u001b[0m\u001b[0;34m.\u001b[0m\u001b[0m__adql_table\u001b[0m\u001b[0;34m.\u001b[0m\u001b[0mselect_columns\u001b[0m\u001b[0;34m(\u001b[0m\u001b[0;34m)\u001b[0m\u001b[0;34m\u001b[0m\u001b[0m\n\u001b[0m\u001b[1;32m     31\u001b[0m         \u001b[0mcolumn_name_list\u001b[0m \u001b[0;34m=\u001b[0m \u001b[0;34m[\u001b[0m\u001b[0mcol\u001b[0m\u001b[0;34m.\u001b[0m\u001b[0mname\u001b[0m\u001b[0;34m(\u001b[0m\u001b[0;34m)\u001b[0m \u001b[0;32mfor\u001b[0m \u001b[0mcol\u001b[0m \u001b[0;32min\u001b[0m \u001b[0madql_columns\u001b[0m\u001b[0;34m]\u001b[0m\u001b[0;34m\u001b[0m\u001b[0m\n\u001b[1;32m     32\u001b[0m         \u001b[0;32mreturn\u001b[0m \u001b[0mcolumn_name_list\u001b[0m\u001b[0;34m\u001b[0m\u001b[0m\n",
      "\u001b[0;32m/opt/lsst-3.6/python/miniconda3-4.3.21/lib/python3.6/site-packages/firethorn-0.1.0-py3.6.egg/firethorn/models/adql/adql_table.py\u001b[0m in \u001b[0;36mselect_columns\u001b[0;34m(self)\u001b[0m\n\u001b[1;32m     26\u001b[0m     \u001b[0;32mdef\u001b[0m \u001b[0mselect_columns\u001b[0m\u001b[0;34m(\u001b[0m\u001b[0mself\u001b[0m\u001b[0;34m)\u001b[0m\u001b[0;34m:\u001b[0m\u001b[0;34m\u001b[0m\u001b[0m\n\u001b[1;32m     27\u001b[0m         \u001b[0mcolumn_list\u001b[0m \u001b[0;34m=\u001b[0m \u001b[0;34m[\u001b[0m\u001b[0;34m]\u001b[0m\u001b[0;34m\u001b[0m\u001b[0m\n\u001b[0;32m---> 28\u001b[0;31m         \u001b[0mjson_list\u001b[0m \u001b[0;34m=\u001b[0m \u001b[0mself\u001b[0m\u001b[0;34m.\u001b[0m\u001b[0mget_json\u001b[0m\u001b[0;34m(\u001b[0m\u001b[0mself\u001b[0m\u001b[0;34m.\u001b[0m\u001b[0murl\u001b[0m \u001b[0;34m+\u001b[0m \u001b[0;34m\"/columns/select\"\u001b[0m\u001b[0;34m)\u001b[0m\u001b[0;34m\u001b[0m\u001b[0m\n\u001b[0m\u001b[1;32m     29\u001b[0m \u001b[0;34m\u001b[0m\u001b[0m\n\u001b[1;32m     30\u001b[0m         \u001b[0;32mfor\u001b[0m \u001b[0mcolumn\u001b[0m \u001b[0;32min\u001b[0m \u001b[0mjson_list\u001b[0m\u001b[0;34m:\u001b[0m\u001b[0;34m\u001b[0m\u001b[0m\n",
      "\u001b[0;31mTypeError\u001b[0m: unsupported operand type(s) for +: 'NoneType' and 'str'"
     ]
    }
   ],
   "source": [
    "# Get list of Columns for atlasSource Table\n",
    "atlasSource.get_column_names()"
   ]
  },
  {
   "cell_type": "code",
   "execution_count": null,
   "metadata": {},
   "outputs": [],
   "source": [
    "ra = atlasSource.get_column_by_name(\"cutOn\")\n",
    "\n",
    "print (\"Name: \" + ra.name())\n",
    "print (\"Type: \" + ra.type())\n",
    "print (\"UCD: \" + ra.ucd())\n"
   ]
  },
  {
   "cell_type": "code",
   "execution_count": null,
   "metadata": {},
   "outputs": [],
   "source": [
    "# Create new workspace\n",
    "my_workspace = ft.new_workspace(\"mySpace\")"
   ]
  },
  {
   "cell_type": "code",
   "execution_count": null,
   "metadata": {},
   "outputs": [],
   "source": [
    "# Import a Schema from the OSA workspace\n",
    "my_workspace.add_schema(\n",
    "    osa_resource.get_schema_by_name(\n",
    "        \"ATLASDR1\"\n",
    "    )\n",
    ")\n"
   ]
  },
  {
   "cell_type": "code",
   "execution_count": null,
   "metadata": {},
   "outputs": [],
   "source": [
    "# List the workspace schema.\n",
    "my_workspace.get_schema_names()"
   ]
  },
  {
   "cell_type": "code",
   "execution_count": null,
   "metadata": {},
   "outputs": [],
   "source": [
    "# Run a Synchronous query\n",
    "query_text = \"\"\"\n",
    "SELECT TOP 500 \n",
    "* FROM \n",
    "    ATLASDR1.Filter \n",
    "\n",
    "\"\"\"\n",
    "query = my_workspace.query(query_text)"
   ]
  },
  {
   "cell_type": "code",
   "execution_count": null,
   "metadata": {},
   "outputs": [],
   "source": [
    "# Get results table\n",
    "table = query.results()"
   ]
  },
  {
   "cell_type": "code",
   "execution_count": null,
   "metadata": {},
   "outputs": [],
   "source": [
    "# Get results table row count\n",
    "table.rowcount()"
   ]
  },
  {
   "cell_type": "code",
   "execution_count": null,
   "metadata": {},
   "outputs": [],
   "source": [
    "# Get results table as astropy table\n",
    "table.as_astropy()"
   ]
  },
  {
   "cell_type": "code",
   "execution_count": null,
   "metadata": {},
   "outputs": [],
   "source": [
    "astropy_table = table.as_astropy()"
   ]
  },
  {
   "cell_type": "code",
   "execution_count": null,
   "metadata": {},
   "outputs": [],
   "source": [
    "astropy_table.show_in_notebook()"
   ]
  },
  {
   "cell_type": "code",
   "execution_count": null,
   "metadata": {},
   "outputs": [],
   "source": [
    "# Run an Asynchronous query\n",
    "async_query = my_workspace.query(\"SELECT TOP 10 * from Filter\", \"ASYNC\")\n",
    "\n",
    "# Get Error message     \n",
    "#print (async_query.error())\n",
    "\n",
    "# Update query text\n",
    "async_query.update(\"SELECT TOP 1000 ra,dec,cx,cy,cz FROM ATLASDR1.atlasSource WHERE ra>0 order by ra\")\n",
    "\n",
    "# Create Query loop\n",
    "async_query.run()\n",
    "while async_query.isRunning():\n",
    "    print (async_query.status())\n",
    "    time.sleep(5)\n",
    "\n",
    "# Get Results\n",
    "print (async_query.results().as_astropy())\n"
   ]
  },
  {
   "cell_type": "code",
   "execution_count": null,
   "metadata": {},
   "outputs": [],
   "source": [
    "%matplotlib notebook\n",
    "from ipywidgets import *\n",
    "import numpy as np\n",
    "import matplotlib.pyplot as plt\n",
    "\n",
    "x = astropy_table[\"cutOn\"]\n",
    "y = astropy_table[\"cutOff\"]\n",
    "fig = plt.figure()\n",
    "ax = fig.add_subplot(1, 1, 1)\n",
    "line = ax.scatter(x, y)\n",
    "\n",
    "plt.xlabel(\"$ra$\", fontsize=20)\n",
    "plt.ylabel(\"$dec$\", fontsize=20)\n",
    "\n",
    "def update(w = 1.0):\n",
    "    fig.canvas.draw()\n",
    "\n",
    "interact(update);"
   ]
  },
  {
   "cell_type": "code",
   "execution_count": null,
   "metadata": {},
   "outputs": [],
   "source": [
    "%matplotlib notebook\n",
    "from ipywidgets import *\n",
    "import numpy as np\n",
    "import matplotlib.pyplot as plt\n",
    "\n",
    "x = astropy_table[\"filterID\"]\n",
    "fig = plt.figure()\n",
    "ax = fig.add_subplot(1, 1, 1)\n",
    "line = ax.hist(x, bins=10)\n",
    "plt.xlabel(\"$cx$\", fontsize=20)\n",
    "\n",
    "def update(w = 1.0):\n",
    "    fig.canvas.draw()\n",
    "\n",
    "interact(update);\n"
   ]
  },
  {
   "cell_type": "code",
   "execution_count": null,
   "metadata": {},
   "outputs": [],
   "source": []
  },
  {
   "cell_type": "code",
   "execution_count": null,
   "metadata": {},
   "outputs": [],
   "source": []
  },
  {
   "cell_type": "code",
   "execution_count": null,
   "metadata": {
    "collapsed": true
   },
   "outputs": [],
   "source": []
  }
 ],
 "metadata": {
  "kernelspec": {
   "display_name": "lsst",
   "language": "python",
   "name": "lsst"
  },
  "language_info": {
   "codemirror_mode": {
    "name": "ipython",
    "version": 3
   },
   "file_extension": ".py",
   "mimetype": "text/x-python",
   "name": "python",
   "nbconvert_exporter": "python",
   "pygments_lexer": "ipython3",
   "version": "3.6.2"
  }
 },
 "nbformat": 4,
 "nbformat_minor": 2
}
